{
 "cells": [
  {
   "cell_type": "code",
   "execution_count": 2,
   "metadata": {},
   "outputs": [],
   "source": [
    "import pandas as pd\n",
    "from os import listdir"
   ]
  },
  {
   "cell_type": "code",
   "execution_count": 4,
   "metadata": {},
   "outputs": [
    {
     "data": {
      "text/plain": [
       "['2009_2010.xlsx',\n",
       " '2011_2012.xlsx',\n",
       " '2013_2014.xlsx',\n",
       " '2015_2016.xlsx',\n",
       " '2017_2019.xlsx']"
      ]
     },
     "execution_count": 4,
     "metadata": {},
     "output_type": "execute_result"
    }
   ],
   "source": [
    "listdir()[1:-1]"
   ]
  },
  {
   "cell_type": "code",
   "execution_count": 9,
   "metadata": {},
   "outputs": [
    {
     "name": "stdout",
     "output_type": "stream",
     "text": [
      "    2009_2010.xlsx finished\n",
      "    2011_2012.xlsx finished\n",
      "    2013_2014.xlsx finished\n",
      "    2015_2016.xlsx finished\n",
      "    2017_2019.xlsx finished\n"
     ]
    }
   ],
   "source": [
    "data = pd.DataFrame([])\n",
    "for i in listdir()[1:-1]:\n",
    "    temp_data = pd.read_excel(i)\n",
    "    data = pd.concat([data, temp_data])\n",
    "    print('   ', '{} finished'.format(i))"
   ]
  },
  {
   "cell_type": "code",
   "execution_count": 10,
   "metadata": {},
   "outputs": [],
   "source": [
    "data.to_csv('AUM.csv', index=False)"
   ]
  }
 ],
 "metadata": {
  "kernelspec": {
   "display_name": "Python 3",
   "language": "python",
   "name": "python3"
  },
  "language_info": {
   "codemirror_mode": {
    "name": "ipython",
    "version": 3
   },
   "file_extension": ".py",
   "mimetype": "text/x-python",
   "name": "python",
   "nbconvert_exporter": "python",
   "pygments_lexer": "ipython3",
   "version": "3.6.3"
  }
 },
 "nbformat": 4,
 "nbformat_minor": 2
}
