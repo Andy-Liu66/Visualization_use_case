{
 "cells": [
  {
   "cell_type": "code",
   "execution_count": 1,
   "metadata": {},
   "outputs": [],
   "source": [
    "import pandas as pd\n",
    "import numpy as np\n",
    "from datetime import datetime\n",
    "import matplotlib.pyplot as plt\n",
    "import plotly.plotly as py\n",
    "import plotly.graph_objs as go"
   ]
  },
  {
   "cell_type": "markdown",
   "metadata": {},
   "source": [
    "# 整理資料"
   ]
  },
  {
   "cell_type": "code",
   "execution_count": 2,
   "metadata": {
    "scrolled": true
   },
   "outputs": [
    {
     "data": {
      "text/html": [
       "<div>\n",
       "<style scoped>\n",
       "    .dataframe tbody tr th:only-of-type {\n",
       "        vertical-align: middle;\n",
       "    }\n",
       "\n",
       "    .dataframe tbody tr th {\n",
       "        vertical-align: top;\n",
       "    }\n",
       "\n",
       "    .dataframe thead th {\n",
       "        text-align: right;\n",
       "    }\n",
       "</style>\n",
       "<table border=\"1\" class=\"dataframe\">\n",
       "  <thead>\n",
       "    <tr style=\"text-align: right;\">\n",
       "      <th></th>\n",
       "      <th>date</th>\n",
       "      <th>time</th>\n",
       "      <th>open</th>\n",
       "      <th>high</th>\n",
       "      <th>low</th>\n",
       "      <th>close</th>\n",
       "      <th>volume</th>\n",
       "      <th>date_time</th>\n",
       "    </tr>\n",
       "  </thead>\n",
       "  <tbody>\n",
       "    <tr>\n",
       "      <th>0</th>\n",
       "      <td>2007-01-02</td>\n",
       "      <td>08:46:00.000</td>\n",
       "      <td>7880</td>\n",
       "      <td>7900</td>\n",
       "      <td>7880</td>\n",
       "      <td>7891</td>\n",
       "      <td>376</td>\n",
       "      <td>2007-01-02 08:46:00</td>\n",
       "    </tr>\n",
       "    <tr>\n",
       "      <th>1</th>\n",
       "      <td>2007-01-02</td>\n",
       "      <td>08:47:00.000</td>\n",
       "      <td>7889</td>\n",
       "      <td>7893</td>\n",
       "      <td>7884</td>\n",
       "      <td>7889</td>\n",
       "      <td>170</td>\n",
       "      <td>2007-01-02 08:47:00</td>\n",
       "    </tr>\n",
       "    <tr>\n",
       "      <th>2</th>\n",
       "      <td>2007-01-02</td>\n",
       "      <td>08:48:00.000</td>\n",
       "      <td>7891</td>\n",
       "      <td>7898</td>\n",
       "      <td>7889</td>\n",
       "      <td>7898</td>\n",
       "      <td>138</td>\n",
       "      <td>2007-01-02 08:48:00</td>\n",
       "    </tr>\n",
       "    <tr>\n",
       "      <th>3</th>\n",
       "      <td>2007-01-02</td>\n",
       "      <td>08:49:00.000</td>\n",
       "      <td>7895</td>\n",
       "      <td>7899</td>\n",
       "      <td>7895</td>\n",
       "      <td>7898</td>\n",
       "      <td>138</td>\n",
       "      <td>2007-01-02 08:49:00</td>\n",
       "    </tr>\n",
       "    <tr>\n",
       "      <th>4</th>\n",
       "      <td>2007-01-02</td>\n",
       "      <td>08:50:00.000</td>\n",
       "      <td>7898</td>\n",
       "      <td>7899</td>\n",
       "      <td>7892</td>\n",
       "      <td>7894</td>\n",
       "      <td>135</td>\n",
       "      <td>2007-01-02 08:50:00</td>\n",
       "    </tr>\n",
       "  </tbody>\n",
       "</table>\n",
       "</div>"
      ],
      "text/plain": [
       "        date          time  open  high   low  close  volume  \\\n",
       "0 2007-01-02  08:46:00.000  7880  7900  7880   7891     376   \n",
       "1 2007-01-02  08:47:00.000  7889  7893  7884   7889     170   \n",
       "2 2007-01-02  08:48:00.000  7891  7898  7889   7898     138   \n",
       "3 2007-01-02  08:49:00.000  7895  7899  7895   7898     138   \n",
       "4 2007-01-02  08:50:00.000  7898  7899  7892   7894     135   \n",
       "\n",
       "            date_time  \n",
       "0 2007-01-02 08:46:00  \n",
       "1 2007-01-02 08:47:00  \n",
       "2 2007-01-02 08:48:00  \n",
       "3 2007-01-02 08:49:00  \n",
       "4 2007-01-02 08:50:00  "
      ]
     },
     "execution_count": 2,
     "metadata": {},
     "output_type": "execute_result"
    }
   ],
   "source": [
    "data = pd.read_table('TXF_1 min.txt', sep=',')\n",
    "\n",
    "data = data[['<Date>', ' <Time>',\n",
    "             ' <Open>', ' <High>', ' <Low>', ' <Close>', ' <TotalVolume>']]\n",
    "\n",
    "data.columns = ['date', 'time',\n",
    "                'open', 'high', 'low', 'close', 'volume']\n",
    "\n",
    "def transform_datetime(x):\n",
    "    temp_time = x['date'] + '/' + x['time'].split('.')[0]\n",
    "    return datetime.strptime(temp_time, '%m/%d/%Y/%H:%M:%S')\n",
    "\n",
    "data['date_time'] = list(\n",
    "    map(lambda x:datetime.strptime(x, '%m/%d/%Y/%H:%M:%S'),\n",
    "        data.date.values + '/' + list(map(lambda x: x[:-4], data.time.values)))\n",
    ")\n",
    "data.date = data.date.apply(lambda x: datetime.strptime(x, '%m/%d/%Y'))\n",
    "data.head()"
   ]
  },
  {
   "cell_type": "markdown",
   "metadata": {},
   "source": [
    "# 日盤-建立高低點與開盤收盤"
   ]
  },
  {
   "cell_type": "code",
   "execution_count": 3,
   "metadata": {},
   "outputs": [
    {
     "data": {
      "text/plain": [
       "[<matplotlib.lines.Line2D at 0x2025ebe6710>]"
      ]
     },
     "execution_count": 3,
     "metadata": {},
     "output_type": "execute_result"
    },
    {
     "data": {
      "image/png": "[encoded data removed]",
      "text/plain": [
       "<matplotlib.figure.Figure at 0x2023b0e2da0>"
      ]
     },
     "metadata": {
      "needs_background": "light"
     },
     "output_type": "display_data"
    }
   ],
   "source": [
    "# 選取日盤資料\n",
    "target_data = data[data.date_time.apply(lambda x: (x.hour >= 8) and (x.hour <= 13))]\n",
    "target_data = target_data[target_data.date.apply(lambda x: x.year) > 2007]\n",
    "\n",
    "# 有掉資料的狀況\n",
    "plt.plot(target_data.groupby('date').count()['time'])"
   ]
  },
  {
   "cell_type": "code",
   "execution_count": 4,
   "metadata": {},
   "outputs": [],
   "source": [
    "# 建立高低點資料\n",
    "def select_highest(x):\n",
    "    return x.max()\n",
    "\n",
    "def select_lowest(x):\n",
    "    return x.min()\n",
    "\n",
    "aggregation = {\n",
    "    'high': lambda x: select_highest(x),\n",
    "    'low': lambda x: select_lowest(x)\n",
    "}\n",
    "\n",
    "high_and_low = target_data.groupby('date').agg(aggregation)\n",
    "\n",
    "high_and_low['difference'] = high_and_low['high'] - high_and_low['low']\n",
    "\n",
    "# 建立開盤收盤資料\n",
    "def select_open(x):\n",
    "    return x.iloc[0]\n",
    "\n",
    "def select_close(x):\n",
    "    return x.iloc[-1]\n",
    "\n",
    "aggregation = {\n",
    "    'open': lambda x: select_open(x),\n",
    "    'close': lambda x: select_close(x)\n",
    "}\n",
    "\n",
    "open_and_close = target_data.groupby('date').agg(aggregation)\n",
    "open_and_close['difference'] = abs(open_and_close['open'] - open_and_close['close'])"
   ]
  },
  {
   "cell_type": "markdown",
   "metadata": {},
   "source": [
    "# 繪圖"
   ]
  },
  {
   "cell_type": "code",
   "execution_count": 5,
   "metadata": {},
   "outputs": [],
   "source": [
    "# 先建立x index\n",
    "# 邏輯是x=[2008, 2008, 2009, ...]，y=[2008對應到的值, 2008對應到的值, 2009對應到的值...]\n",
    "date_index = pd.DataFrame(high_and_low.index)\n",
    "date_index['year'] = date_index.date.apply(lambda x: x.year)\n",
    "y_number_per_year = date_index.groupby('year').count()['date'].values\n",
    "years = date_index.year.unique()\n",
    "\n",
    "x_index = []\n",
    "for i in range(len(years)):\n",
    "    temp = [years[i]]*y_number_per_year[i]\n",
    "    x_index.extend(temp)"
   ]
  },
  {
   "cell_type": "code",
   "execution_count": 6,
   "metadata": {
    "scrolled": false
   },
   "outputs": [
    {
     "data": {
      "text/html": [
       "<iframe id=\"igraph\" scrolling=\"no\" style=\"border:none;\" seamless=\"seamless\" src=\"https://plot.ly/~andy566159/22.embed\" height=\"525px\" width=\"100%\"></iframe>"
      ],
      "text/plain": [
       "<plotly.tools.PlotlyDisplay object>"
      ]
     },
     "execution_count": 6,
     "metadata": {},
     "output_type": "execute_result"
    }
   ],
   "source": [
    "trace_1 = go.Box(\n",
    "    x=x_index,\n",
    "    y=high_and_low['difference'],\n",
    "    name='High minus Low',\n",
    "    boxmean=True\n",
    ")\n",
    "\n",
    "trace_2 = go.Box(\n",
    "    x=x_index,\n",
    "    y=open_and_close['difference'],\n",
    "    name='Distance betweeen Open and Close',\n",
    "    boxmean=True\n",
    ")\n",
    "\n",
    "layout = go.Layout(\n",
    "    # 有些吃go物件有些直接指定\n",
    "    title='TXF: High minus Low vs Distance betweeen Open and Close <br> (standard trading hours)',\n",
    "    \n",
    "    titlefont=go.layout.Titlefont(\n",
    "        size=20,\n",
    "        color='grey'\n",
    "    ),\n",
    "    \n",
    "    xaxis=go.layout.XAxis(\n",
    "        showgrid=False,\n",
    "        zeroline=False,\n",
    "        showticklabels=True\n",
    "    ),\n",
    "    \n",
    "    yaxis=go.layout.YAxis(\n",
    "        zeroline=False,\n",
    "        gridcolor='white'\n",
    "    ),\n",
    "    \n",
    "    boxmode='group',\n",
    "    \n",
    "    legend=go.layout.Legend(\n",
    "        x=0.01,\n",
    "        y=0.95,\n",
    "        font={'size': 15}\n",
    "    ),\n",
    "    \n",
    "    paper_bgcolor='rgb(255,255,255)',\n",
    "    \n",
    "    plot_bgcolor='rgb(255,255,255)'\n",
    "\n",
    ")\n",
    "\n",
    "# 另一種沒有用go物件的寫法\n",
    "# layout = {\n",
    "#     'xaxis': {'showgrid':False,'zeroline':False,'showticklabels':True},\n",
    "#     'yaxis': {'zeroline':False,'gridcolor':'white'},\n",
    "#     'paper_bgcolor': 'rgb(243,243,243)',\n",
    "#     'plot_bgcolor': 'rgb(243,243,243)',\n",
    "#     'boxmode': 'group',\n",
    "#     'legend': dict(x=0.01, y=0.95, font={'size': 15}),\n",
    "#     'title': 'TXF: High minus Low vs Distance betweeen open and close'\n",
    "# }\n",
    "\n",
    "data_plotly = [trace_1, trace_2]\n",
    "\n",
    "fig = go.Figure(data_plotly, layout=layout)\n",
    "py.iplot(fig, filename='TXF K bar distrubition')"
   ]
  },
  {
   "cell_type": "markdown",
   "metadata": {},
   "source": [
    "result is avaliable at:\n",
    "\n",
    "https://plot.ly/~andy566159/22.embed"
   ]
  },
  {
   "cell_type": "markdown",
   "metadata": {},
   "source": [
    "# Note"
   ]
  },
  {
   "cell_type": "markdown",
   "metadata": {},
   "source": [
    "### 找尋高低點時發現用groupby.agg()的速度快很多"
   ]
  },
  {
   "cell_type": "code",
   "execution_count": 7,
   "metadata": {},
   "outputs": [
    {
     "name": "stdout",
     "output_type": "stream",
     "text": [
      "Wall time: 1.1 s\n"
     ]
    }
   ],
   "source": [
    "%%time\n",
    "\n",
    "def select_highest(x):\n",
    "    return x.max()\n",
    "\n",
    "def select_lowest(x):\n",
    "    return x.min()\n",
    "\n",
    "aggregation = {\n",
    "    'high': lambda x: select_highest(x),\n",
    "    'low': lambda x: select_lowest(x)\n",
    "}\n",
    "\n",
    "high_and_low = target_data.groupby('date').agg(aggregation)"
   ]
  },
  {
   "cell_type": "code",
   "execution_count": 8,
   "metadata": {},
   "outputs": [
    {
     "name": "stdout",
     "output_type": "stream",
     "text": [
      "Wall time: 6.09 s\n"
     ]
    }
   ],
   "source": [
    "%%time\n",
    "\n",
    "high_and_low_2 = pd.concat([\n",
    "    target_data.groupby('date').max()[['high']],\n",
    "    target_data.groupby('date').min()[['low']]\n",
    "], axis=1)"
   ]
  },
  {
   "cell_type": "markdown",
   "metadata": {},
   "source": [
    "### 繪圖有很多種方法，以下為別種方式(主要差異為是否用到go物件)"
   ]
  },
  {
   "cell_type": "code",
   "execution_count": 9,
   "metadata": {
    "scrolled": false
   },
   "outputs": [
    {
     "data": {
      "text/html": [
       "<iframe id=\"igraph\" scrolling=\"no\" style=\"border:none;\" seamless=\"seamless\" src=\"https://plot.ly/~andy566159/26.embed\" height=\"525px\" width=\"100%\"></iframe>"
      ],
      "text/plain": [
       "<plotly.tools.PlotlyDisplay object>"
      ]
     },
     "execution_count": 9,
     "metadata": {},
     "output_type": "execute_result"
    }
   ],
   "source": [
    "open_and_close['year'] = list(map(lambda x: x.year, open_and_close.index))\n",
    "N = len(years)\n",
    "\n",
    "c = ['hsl('+str(h)+',50%'+',50%)' for h in np.linspace(0, 360, N)]\n",
    "\n",
    "plotly_data = [{\n",
    "    'name': str(years[i]),\n",
    "    'y': open_and_close[open_and_close.year == years[i]].difference.values,\n",
    "    'type': 'box',\n",
    "    'boxmean': True,\n",
    "    'marker': {'color': c[i]}\n",
    "} for i in range(len(years))]\n",
    "\n",
    "layout = {'xaxis': {'showgrid':False,'zeroline':False, 'tickangle':60,'showticklabels':False},\n",
    "          'yaxis': {'zeroline':False,'gridcolor':'white'},\n",
    "          'paper_bgcolor': 'rgb(243,243,243)',\n",
    "          'plot_bgcolor': 'rgb(243,243,243)',\n",
    "          }\n",
    "\n",
    "fig = go.Figure(plotly_data, layout=layout)\n",
    "py.iplot(fig, filename='TXF K bar - Distance betweeen Open and Close')"
   ]
  },
  {
   "cell_type": "markdown",
   "metadata": {},
   "source": [
    "result is avaliable at:\n",
    "\n",
    "https://plot.ly/~andy566159/26.embed"
   ]
  },
  {
   "cell_type": "markdown",
   "metadata": {},
   "source": [
    "### 日盤、夜盤英文"
   ]
  },
  {
   "cell_type": "markdown",
   "metadata": {},
   "source": [
    "* 日盤: Standard trading hours\n",
    "* 夜盤: After-hours trading"
   ]
  },
  {
   "cell_type": "markdown",
   "metadata": {},
   "source": [
    "# Reference\n",
    "* Python string to datetime – strptime()\n",
    "\n",
    "  https://www.journaldev.com/23365/python-string-to-datetime-strptime\n",
    "  \n",
    "* plotly boxplot\n",
    "\n",
    "  https://plot.ly/python/box-plots/#styling-outliers\n",
    " \n",
    "* Summarising, Aggregating, and Grouping data in Python Pandas\n",
    "\n",
    "  https://www.shanelynn.ie/summarising-aggregation-and-grouping-data-in-python-pandas/"
   ]
  }
 ],
 "metadata": {
  "kernelspec": {
   "display_name": "Python 3",
   "language": "python",
   "name": "python3"
  },
  "language_info": {
   "codemirror_mode": {
    "name": "ipython",
    "version": 3
   },
   "file_extension": ".py",
   "mimetype": "text/x-python",
   "name": "python",
   "nbconvert_exporter": "python",
   "pygments_lexer": "ipython3",
   "version": "3.6.3"
  }
 },
 "nbformat": 4,
 "nbformat_minor": 2
}
